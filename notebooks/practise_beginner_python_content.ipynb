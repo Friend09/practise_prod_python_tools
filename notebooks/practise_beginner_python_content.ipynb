{
 "cells": [
  {
   "cell_type": "markdown",
   "id": "989cc444",
   "metadata": {},
   "source": [
    "# BEGINNER PYTHON\n"
   ]
  },
  {
   "cell_type": "markdown",
   "id": "b32e0974",
   "metadata": {},
   "source": [
    "https://calmcode.io/tracks"
   ]
  },
  {
   "cell_type": "markdown",
   "id": "5ea01d54",
   "metadata": {},
   "source": [
    "## args kwargs - Function Arguments\n"
   ]
  },
  {
   "cell_type": "code",
   "execution_count": 7,
   "id": "8fb78f39",
   "metadata": {},
   "outputs": [
    {
     "name": "stdout",
     "output_type": "stream",
     "text": [
      "1 2\n",
      "([2, 3, 4],)\n"
     ]
    }
   ],
   "source": [
    "def function(a, b, *args):\n",
    "    print(a, b)\n",
    "    print(args)\n",
    "\n",
    "\n",
    "function(1, 2, [2, 3, 4])"
   ]
  },
  {
   "cell_type": "markdown",
   "id": "9241e750",
   "metadata": {},
   "source": [
    "## comprehensions - Awesome One-Liners\n"
   ]
  },
  {
   "cell_type": "code",
   "execution_count": 14,
   "id": "2bc798c9",
   "metadata": {},
   "outputs": [
    {
     "data": {
      "text/plain": [
       "['A', 'c', 'E']"
      ]
     },
     "execution_count": 14,
     "metadata": {},
     "output_type": "execute_result"
    }
   ],
   "source": [
    "old_list = \"abcde\"\n",
    "\n",
    "[\n",
    "    char.upper() if char in \"aeuio\" else char\n",
    "    for idx, char in enumerate(old_list)\n",
    "    if idx % 2 == 0\n",
    "]"
   ]
  },
  {
   "cell_type": "markdown",
   "id": "e8f6618b",
   "metadata": {},
   "source": [
    "## bandit: Checks for Security\n"
   ]
  },
  {
   "cell_type": "markdown",
   "id": "545f1984",
   "metadata": {},
   "source": [
    "- done on .py file"
   ]
  },
  {
   "cell_type": "markdown",
   "id": "d940bc94",
   "metadata": {},
   "source": [
    "## chime: Sound Cues\n"
   ]
  },
  {
   "cell_type": "code",
   "execution_count": null,
   "id": "ae393973",
   "metadata": {},
   "outputs": [],
   "source": []
  },
  {
   "cell_type": "markdown",
   "id": "028930bb",
   "metadata": {},
   "source": [
    "## context managers: Automatically Cleaned Python\n"
   ]
  },
  {
   "cell_type": "markdown",
   "id": "d3967d36",
   "metadata": {},
   "source": [
    "## decorators: Expressive Functions\n"
   ]
  },
  {
   "cell_type": "markdown",
   "id": "4f22b09a",
   "metadata": {},
   "source": [
    "## diskcache: Very nice sqlite trick\n"
   ]
  },
  {
   "cell_type": "markdown",
   "id": "423892de",
   "metadata": {},
   "source": [
    "## gazpacho: Simple Scraping\n"
   ]
  },
  {
   "cell_type": "markdown",
   "id": "a1e9183e",
   "metadata": {},
   "source": [
    "## gin: Configure Python\n"
   ]
  },
  {
   "cell_type": "markdown",
   "id": "ab716925",
   "metadata": {},
   "source": [
    "## lambda: Expressive Functions\n"
   ]
  },
  {
   "cell_type": "markdown",
   "id": "a57097dc",
   "metadata": {},
   "source": [
    "## logging: Better Hindsight\n"
   ]
  },
  {
   "cell_type": "markdown",
   "id": "cf9ac1ff",
   "metadata": {},
   "source": [
    "## method chains: Functional Objects\n"
   ]
  },
  {
   "cell_type": "markdown",
   "id": "839240a0",
   "metadata": {},
   "source": [
    "## parse: Inverse of Format\n"
   ]
  },
  {
   "cell_type": "markdown",
   "id": "b6f96eea",
   "metadata": {},
   "source": [
    "## pathlib: For Files And Folders\n"
   ]
  },
  {
   "cell_type": "markdown",
   "id": "83ccf470",
   "metadata": {},
   "source": [
    "## recursion: Rephrasing Complexity\n"
   ]
  },
  {
   "cell_type": "markdown",
   "id": "10131cf0",
   "metadata": {},
   "source": [
    "## virtualenv: Environments Matter\n"
   ]
  },
  {
   "cell_type": "markdown",
   "id": "14cacf9c",
   "metadata": {},
   "source": []
  },
  {
   "cell_type": "markdown",
   "id": "5e63ed03",
   "metadata": {},
   "source": [
    "bandit: Checks for Security\n",
    "## "
   ]
  },
  {
   "cell_type": "markdown",
   "id": "92084d4f",
   "metadata": {},
   "source": [
    "chime: Sound Cues\n",
    "## "
   ]
  },
  {
   "cell_type": "markdown",
   "id": "0985aa5b",
   "metadata": {},
   "source": [
    "context managers: Automatically Cleaned Python\n",
    "## "
   ]
  },
  {
   "cell_type": "markdown",
   "id": "619782e4",
   "metadata": {},
   "source": [
    "decorators: Expressive Functions\n",
    "## "
   ]
  },
  {
   "cell_type": "markdown",
   "id": "52c6e91d",
   "metadata": {},
   "source": [
    "diskcache: Very nice sqlite trick\n",
    "## "
   ]
  },
  {
   "cell_type": "markdown",
   "id": "5a22be88",
   "metadata": {},
   "source": [
    "gazpacho: Simple Scraping\n",
    "## "
   ]
  },
  {
   "cell_type": "markdown",
   "id": "c2e6f5d3",
   "metadata": {},
   "source": [
    "gin: Configure Python\n",
    "## "
   ]
  },
  {
   "cell_type": "markdown",
   "id": "80a63ea6",
   "metadata": {},
   "source": [
    "lambda: Expressive Functions\n",
    "## "
   ]
  },
  {
   "cell_type": "markdown",
   "id": "b1194e51",
   "metadata": {},
   "source": [
    "logging: Better Hindsight\n",
    "## "
   ]
  },
  {
   "cell_type": "markdown",
   "id": "522d6043",
   "metadata": {},
   "source": [
    "method chains: Functional Objects\n",
    "## "
   ]
  },
  {
   "cell_type": "markdown",
   "id": "e27b5be0",
   "metadata": {},
   "source": [
    "parse: Inverse of Format\n",
    "## "
   ]
  },
  {
   "cell_type": "markdown",
   "id": "7a840f90",
   "metadata": {},
   "source": [
    "pathlib: For Files And Folders\n",
    "## "
   ]
  },
  {
   "cell_type": "markdown",
   "id": "660724a1",
   "metadata": {},
   "source": [
    "recursion: Rephrasing Complexity\n",
    "## "
   ]
  },
  {
   "cell_type": "markdown",
   "id": "8668625a",
   "metadata": {},
   "source": [
    "virtualenv: Environments Matter\n"
   ]
  },
  {
   "cell_type": "code",
   "execution_count": null,
   "id": "7c81653a",
   "metadata": {},
   "outputs": [],
   "source": []
  },
  {
   "cell_type": "code",
   "execution_count": null,
   "id": "eb67e0bd",
   "metadata": {},
   "outputs": [],
   "source": []
  },
  {
   "cell_type": "code",
   "execution_count": null,
   "id": "4c7ee636",
   "metadata": {},
   "outputs": [],
   "source": []
  },
  {
   "cell_type": "code",
   "execution_count": null,
   "id": "3b37fc76",
   "metadata": {},
   "outputs": [],
   "source": []
  }
 ],
 "metadata": {
  "kernelspec": {
   "display_name": ".venv",
   "language": "python",
   "name": "python3"
  },
  "language_info": {
   "codemirror_mode": {
    "name": "ipython",
    "version": 3
   },
   "file_extension": ".py",
   "mimetype": "text/x-python",
   "name": "python",
   "nbconvert_exporter": "python",
   "pygments_lexer": "ipython3",
   "version": "3.12.8"
  }
 },
 "nbformat": 4,
 "nbformat_minor": 5
}
