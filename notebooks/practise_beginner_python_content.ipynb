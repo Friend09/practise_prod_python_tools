{
 "cells": [
  {
   "cell_type": "markdown",
   "id": "989cc444",
   "metadata": {},
   "source": [
    "# BEGINNER PYTHON\n"
   ]
  },
  {
   "cell_type": "markdown",
   "id": "b32e0974",
   "metadata": {},
   "source": [
    "https://calmcode.io/tracks\n"
   ]
  },
  {
   "cell_type": "markdown",
   "id": "5ea01d54",
   "metadata": {},
   "source": [
    "## args kwargs - Function Arguments\n"
   ]
  },
  {
   "cell_type": "code",
   "execution_count": 7,
   "id": "8fb78f39",
   "metadata": {},
   "outputs": [
    {
     "name": "stdout",
     "output_type": "stream",
     "text": [
      "1 2\n",
      "([2, 3, 4],)\n"
     ]
    }
   ],
   "source": [
    "def function(a, b, *args):\n",
    "    print(a, b)\n",
    "    print(args)\n",
    "\n",
    "\n",
    "function(1, 2, [2, 3, 4])"
   ]
  },
  {
   "cell_type": "markdown",
   "id": "9241e750",
   "metadata": {},
   "source": [
    "## comprehensions - Awesome One-Liners\n"
   ]
  },
  {
   "cell_type": "code",
   "execution_count": 14,
   "id": "2bc798c9",
   "metadata": {},
   "outputs": [
    {
     "data": {
      "text/plain": [
       "['A', 'c', 'E']"
      ]
     },
     "execution_count": 14,
     "metadata": {},
     "output_type": "execute_result"
    }
   ],
   "source": [
    "old_list = \"abcde\"\n",
    "\n",
    "[\n",
    "    char.upper() if char in \"aeuio\" else char\n",
    "    for idx, char in enumerate(old_list)\n",
    "    if idx % 2 == 0\n",
    "]"
   ]
  },
  {
   "cell_type": "markdown",
   "id": "e8f6618b",
   "metadata": {},
   "source": [
    "## bandit: Checks for Security\n"
   ]
  },
  {
   "cell_type": "markdown",
   "id": "545f1984",
   "metadata": {},
   "source": [
    "- done on .py file\n"
   ]
  },
  {
   "cell_type": "markdown",
   "id": "d940bc94",
   "metadata": {},
   "source": [
    "## chime: Sound Cues\n"
   ]
  },
  {
   "cell_type": "code",
   "execution_count": 14,
   "id": "ae393973",
   "metadata": {},
   "outputs": [],
   "source": [
    "import chime\n",
    "import time"
   ]
  },
  {
   "cell_type": "code",
   "execution_count": 15,
   "id": "33fa8bc9",
   "metadata": {},
   "outputs": [],
   "source": [
    "def long_running_task():\n",
    "    time.sleep(5)\n",
    "    print(\"done\")\n",
    "    chime.success()"
   ]
  },
  {
   "cell_type": "code",
   "execution_count": 16,
   "id": "29cd07d2",
   "metadata": {},
   "outputs": [
    {
     "name": "stdout",
     "output_type": "stream",
     "text": [
      "done\n"
     ]
    }
   ],
   "source": [
    "long_running_task()"
   ]
  },
  {
   "cell_type": "code",
   "execution_count": 17,
   "id": "7b9c43bf",
   "metadata": {},
   "outputs": [
    {
     "data": {
      "text/plain": [
       "['chime', 'mario', 'zelda']"
      ]
     },
     "execution_count": 17,
     "metadata": {},
     "output_type": "execute_result"
    }
   ],
   "source": [
    "# other chime themes\n",
    "[\"chime\", \"mario\", \"zelda\"]"
   ]
  },
  {
   "cell_type": "code",
   "execution_count": 30,
   "id": "e9c4845d",
   "metadata": {},
   "outputs": [],
   "source": [
    "#  set chime theme\n",
    "chime.theme(\"chime\")"
   ]
  },
  {
   "cell_type": "code",
   "execution_count": 31,
   "id": "91e7a548",
   "metadata": {},
   "outputs": [],
   "source": [
    "chime.success()"
   ]
  },
  {
   "cell_type": "code",
   "execution_count": 35,
   "id": "2b5f511f",
   "metadata": {},
   "outputs": [],
   "source": [
    "chime.warning()"
   ]
  },
  {
   "cell_type": "code",
   "execution_count": 36,
   "id": "d120897a",
   "metadata": {},
   "outputs": [],
   "source": [
    "chime.error()"
   ]
  },
  {
   "cell_type": "code",
   "execution_count": 34,
   "id": "fe2339ea",
   "metadata": {},
   "outputs": [],
   "source": [
    "chime.info()"
   ]
  },
  {
   "cell_type": "markdown",
   "id": "028930bb",
   "metadata": {},
   "source": [
    "## context managers: Automatically Cleaned Python\n"
   ]
  },
  {
   "cell_type": "code",
   "execution_count": 33,
   "id": "cd025a0c",
   "metadata": {},
   "outputs": [
    {
     "name": "stdout",
     "output_type": "stream",
     "text": [
      "entering the context manager\n",
      "==inside the context manager==\n",
      "i am the returned value\n",
      "exiting the context manager\n"
     ]
    }
   ],
   "source": [
    "class PrintingContextManager:\n",
    "    def __enter__(self):\n",
    "        print(\"entering the context manager\")\n",
    "        return \"i am the returned value\"\n",
    "\n",
    "    def __exit__(self, exc_type, exc_value, traceback):\n",
    "        print(\"exiting the context manager\")\n",
    "\n",
    "\n",
    "with PrintingContextManager() as var:\n",
    "    print(\"==inside the context manager==\")\n",
    "    print(var)"
   ]
  },
  {
   "cell_type": "code",
   "execution_count": 1,
   "id": "5abf9edb",
   "metadata": {},
   "outputs": [
    {
     "name": "stdout",
     "output_type": "stream",
     "text": [
      "entering the context manager\n",
      "22\n",
      "i am the returned value\n",
      "exiting the context manager\n"
     ]
    }
   ],
   "source": [
    "from contextlib import contextmanager\n",
    "\n",
    "\n",
    "@contextmanager\n",
    "def printing_context_manager():\n",
    "    print(\"entering the context manager\")\n",
    "    yield (\"i am the returned value\")\n",
    "    print(\"exiting the context manager\")\n",
    "\n",
    "\n",
    "with printing_context_manager() as var:\n",
    "    print(\"22\")\n",
    "    print(var)"
   ]
  },
  {
   "cell_type": "code",
   "execution_count": 3,
   "id": "68f2ed37",
   "metadata": {},
   "outputs": [
    {
     "name": "stdout",
     "output_type": "stream",
     "text": [
      "I have a temporary directory at: /var/folders/43/572h075x24q9rq1slmdfw9yw0000gn/T/tmpe8r4ooux\n",
      "['hello world']\n"
     ]
    }
   ],
   "source": [
    "import tempfile\n",
    "\n",
    "with tempfile.TemporaryDirectory() as tempdir_path:\n",
    "    print(f\"I have a temporary directory at: {tempdir_path}\")\n",
    "\n",
    "with tempfile.TemporaryFile(mode=\"w+\") as file:\n",
    "    file.write(\"hello world\")\n",
    "    file.seek(0)\n",
    "    print(file.readlines())"
   ]
  },
  {
   "cell_type": "code",
   "execution_count": 7,
   "id": "a9418f0d",
   "metadata": {},
   "outputs": [
    {
     "data": {
      "text/plain": [
       "((100, 4), (100,))"
      ]
     },
     "execution_count": 7,
     "metadata": {},
     "output_type": "execute_result"
    }
   ],
   "source": [
    "from sklearn.ensemble import RandomForestRegressor\n",
    "from sklearn.datasets import make_regression\n",
    "\n",
    "X, y = make_regression(n_features=4, n_informative=2, random_state=0, shuffle=False)\n",
    "\n",
    "X.shape, y.shape"
   ]
  },
  {
   "cell_type": "code",
   "execution_count": 8,
   "id": "bea0222d",
   "metadata": {},
   "outputs": [],
   "source": [
    "model = RandomForestRegressor(max_depth=2, n_estimators=5, random_state=0, verbose=100)"
   ]
  },
  {
   "cell_type": "code",
   "execution_count": 12,
   "id": "3a5bd9dd",
   "metadata": {},
   "outputs": [
    {
     "name": "stdout",
     "output_type": "stream",
     "text": [
      "building tree 1 of 5\n",
      "[Parallel(n_jobs=1)]: Done   1 tasks      | elapsed:    0.0s\n",
      "building tree 2 of 5\n",
      "[Parallel(n_jobs=1)]: Done   2 tasks      | elapsed:    0.0s\n",
      "building tree 3 of 5\n",
      "[Parallel(n_jobs=1)]: Done   3 tasks      | elapsed:    0.0s\n",
      "building tree 4 of 5\n",
      "[Parallel(n_jobs=1)]: Done   4 tasks      | elapsed:    0.0s\n",
      "building tree 5 of 5\n",
      "[Parallel(n_jobs=1)]: Done   5 tasks      | elapsed:    0.0s\n",
      "[Parallel(n_jobs=1)]: Done   5 tasks      | elapsed:    0.0s\n"
     ]
    },
    {
     "data": {
      "text/html": [
       "<style>#sk-container-id-1 {\n",
       "  /* Definition of color scheme common for light and dark mode */\n",
       "  --sklearn-color-text: #000;\n",
       "  --sklearn-color-text-muted: #666;\n",
       "  --sklearn-color-line: gray;\n",
       "  /* Definition of color scheme for unfitted estimators */\n",
       "  --sklearn-color-unfitted-level-0: #fff5e6;\n",
       "  --sklearn-color-unfitted-level-1: #f6e4d2;\n",
       "  --sklearn-color-unfitted-level-2: #ffe0b3;\n",
       "  --sklearn-color-unfitted-level-3: chocolate;\n",
       "  /* Definition of color scheme for fitted estimators */\n",
       "  --sklearn-color-fitted-level-0: #f0f8ff;\n",
       "  --sklearn-color-fitted-level-1: #d4ebff;\n",
       "  --sklearn-color-fitted-level-2: #b3dbfd;\n",
       "  --sklearn-color-fitted-level-3: cornflowerblue;\n",
       "\n",
       "  /* Specific color for light theme */\n",
       "  --sklearn-color-text-on-default-background: var(--sg-text-color, var(--theme-code-foreground, var(--jp-content-font-color1, black)));\n",
       "  --sklearn-color-background: var(--sg-background-color, var(--theme-background, var(--jp-layout-color0, white)));\n",
       "  --sklearn-color-border-box: var(--sg-text-color, var(--theme-code-foreground, var(--jp-content-font-color1, black)));\n",
       "  --sklearn-color-icon: #696969;\n",
       "\n",
       "  @media (prefers-color-scheme: dark) {\n",
       "    /* Redefinition of color scheme for dark theme */\n",
       "    --sklearn-color-text-on-default-background: var(--sg-text-color, var(--theme-code-foreground, var(--jp-content-font-color1, white)));\n",
       "    --sklearn-color-background: var(--sg-background-color, var(--theme-background, var(--jp-layout-color0, #111)));\n",
       "    --sklearn-color-border-box: var(--sg-text-color, var(--theme-code-foreground, var(--jp-content-font-color1, white)));\n",
       "    --sklearn-color-icon: #878787;\n",
       "  }\n",
       "}\n",
       "\n",
       "#sk-container-id-1 {\n",
       "  color: var(--sklearn-color-text);\n",
       "}\n",
       "\n",
       "#sk-container-id-1 pre {\n",
       "  padding: 0;\n",
       "}\n",
       "\n",
       "#sk-container-id-1 input.sk-hidden--visually {\n",
       "  border: 0;\n",
       "  clip: rect(1px 1px 1px 1px);\n",
       "  clip: rect(1px, 1px, 1px, 1px);\n",
       "  height: 1px;\n",
       "  margin: -1px;\n",
       "  overflow: hidden;\n",
       "  padding: 0;\n",
       "  position: absolute;\n",
       "  width: 1px;\n",
       "}\n",
       "\n",
       "#sk-container-id-1 div.sk-dashed-wrapped {\n",
       "  border: 1px dashed var(--sklearn-color-line);\n",
       "  margin: 0 0.4em 0.5em 0.4em;\n",
       "  box-sizing: border-box;\n",
       "  padding-bottom: 0.4em;\n",
       "  background-color: var(--sklearn-color-background);\n",
       "}\n",
       "\n",
       "#sk-container-id-1 div.sk-container {\n",
       "  /* jupyter's `normalize.less` sets `[hidden] { display: none; }`\n",
       "     but bootstrap.min.css set `[hidden] { display: none !important; }`\n",
       "     so we also need the `!important` here to be able to override the\n",
       "     default hidden behavior on the sphinx rendered scikit-learn.org.\n",
       "     See: https://github.com/scikit-learn/scikit-learn/issues/21755 */\n",
       "  display: inline-block !important;\n",
       "  position: relative;\n",
       "}\n",
       "\n",
       "#sk-container-id-1 div.sk-text-repr-fallback {\n",
       "  display: none;\n",
       "}\n",
       "\n",
       "div.sk-parallel-item,\n",
       "div.sk-serial,\n",
       "div.sk-item {\n",
       "  /* draw centered vertical line to link estimators */\n",
       "  background-image: linear-gradient(var(--sklearn-color-text-on-default-background), var(--sklearn-color-text-on-default-background));\n",
       "  background-size: 2px 100%;\n",
       "  background-repeat: no-repeat;\n",
       "  background-position: center center;\n",
       "}\n",
       "\n",
       "/* Parallel-specific style estimator block */\n",
       "\n",
       "#sk-container-id-1 div.sk-parallel-item::after {\n",
       "  content: \"\";\n",
       "  width: 100%;\n",
       "  border-bottom: 2px solid var(--sklearn-color-text-on-default-background);\n",
       "  flex-grow: 1;\n",
       "}\n",
       "\n",
       "#sk-container-id-1 div.sk-parallel {\n",
       "  display: flex;\n",
       "  align-items: stretch;\n",
       "  justify-content: center;\n",
       "  background-color: var(--sklearn-color-background);\n",
       "  position: relative;\n",
       "}\n",
       "\n",
       "#sk-container-id-1 div.sk-parallel-item {\n",
       "  display: flex;\n",
       "  flex-direction: column;\n",
       "}\n",
       "\n",
       "#sk-container-id-1 div.sk-parallel-item:first-child::after {\n",
       "  align-self: flex-end;\n",
       "  width: 50%;\n",
       "}\n",
       "\n",
       "#sk-container-id-1 div.sk-parallel-item:last-child::after {\n",
       "  align-self: flex-start;\n",
       "  width: 50%;\n",
       "}\n",
       "\n",
       "#sk-container-id-1 div.sk-parallel-item:only-child::after {\n",
       "  width: 0;\n",
       "}\n",
       "\n",
       "/* Serial-specific style estimator block */\n",
       "\n",
       "#sk-container-id-1 div.sk-serial {\n",
       "  display: flex;\n",
       "  flex-direction: column;\n",
       "  align-items: center;\n",
       "  background-color: var(--sklearn-color-background);\n",
       "  padding-right: 1em;\n",
       "  padding-left: 1em;\n",
       "}\n",
       "\n",
       "\n",
       "/* Toggleable style: style used for estimator/Pipeline/ColumnTransformer box that is\n",
       "clickable and can be expanded/collapsed.\n",
       "- Pipeline and ColumnTransformer use this feature and define the default style\n",
       "- Estimators will overwrite some part of the style using the `sk-estimator` class\n",
       "*/\n",
       "\n",
       "/* Pipeline and ColumnTransformer style (default) */\n",
       "\n",
       "#sk-container-id-1 div.sk-toggleable {\n",
       "  /* Default theme specific background. It is overwritten whether we have a\n",
       "  specific estimator or a Pipeline/ColumnTransformer */\n",
       "  background-color: var(--sklearn-color-background);\n",
       "}\n",
       "\n",
       "/* Toggleable label */\n",
       "#sk-container-id-1 label.sk-toggleable__label {\n",
       "  cursor: pointer;\n",
       "  display: flex;\n",
       "  width: 100%;\n",
       "  margin-bottom: 0;\n",
       "  padding: 0.5em;\n",
       "  box-sizing: border-box;\n",
       "  text-align: center;\n",
       "  align-items: start;\n",
       "  justify-content: space-between;\n",
       "  gap: 0.5em;\n",
       "}\n",
       "\n",
       "#sk-container-id-1 label.sk-toggleable__label .caption {\n",
       "  font-size: 0.6rem;\n",
       "  font-weight: lighter;\n",
       "  color: var(--sklearn-color-text-muted);\n",
       "}\n",
       "\n",
       "#sk-container-id-1 label.sk-toggleable__label-arrow:before {\n",
       "  /* Arrow on the left of the label */\n",
       "  content: \"▸\";\n",
       "  float: left;\n",
       "  margin-right: 0.25em;\n",
       "  color: var(--sklearn-color-icon);\n",
       "}\n",
       "\n",
       "#sk-container-id-1 label.sk-toggleable__label-arrow:hover:before {\n",
       "  color: var(--sklearn-color-text);\n",
       "}\n",
       "\n",
       "/* Toggleable content - dropdown */\n",
       "\n",
       "#sk-container-id-1 div.sk-toggleable__content {\n",
       "  max-height: 0;\n",
       "  max-width: 0;\n",
       "  overflow: hidden;\n",
       "  text-align: left;\n",
       "  /* unfitted */\n",
       "  background-color: var(--sklearn-color-unfitted-level-0);\n",
       "}\n",
       "\n",
       "#sk-container-id-1 div.sk-toggleable__content.fitted {\n",
       "  /* fitted */\n",
       "  background-color: var(--sklearn-color-fitted-level-0);\n",
       "}\n",
       "\n",
       "#sk-container-id-1 div.sk-toggleable__content pre {\n",
       "  margin: 0.2em;\n",
       "  border-radius: 0.25em;\n",
       "  color: var(--sklearn-color-text);\n",
       "  /* unfitted */\n",
       "  background-color: var(--sklearn-color-unfitted-level-0);\n",
       "}\n",
       "\n",
       "#sk-container-id-1 div.sk-toggleable__content.fitted pre {\n",
       "  /* unfitted */\n",
       "  background-color: var(--sklearn-color-fitted-level-0);\n",
       "}\n",
       "\n",
       "#sk-container-id-1 input.sk-toggleable__control:checked~div.sk-toggleable__content {\n",
       "  /* Expand drop-down */\n",
       "  max-height: 200px;\n",
       "  max-width: 100%;\n",
       "  overflow: auto;\n",
       "}\n",
       "\n",
       "#sk-container-id-1 input.sk-toggleable__control:checked~label.sk-toggleable__label-arrow:before {\n",
       "  content: \"▾\";\n",
       "}\n",
       "\n",
       "/* Pipeline/ColumnTransformer-specific style */\n",
       "\n",
       "#sk-container-id-1 div.sk-label input.sk-toggleable__control:checked~label.sk-toggleable__label {\n",
       "  color: var(--sklearn-color-text);\n",
       "  background-color: var(--sklearn-color-unfitted-level-2);\n",
       "}\n",
       "\n",
       "#sk-container-id-1 div.sk-label.fitted input.sk-toggleable__control:checked~label.sk-toggleable__label {\n",
       "  background-color: var(--sklearn-color-fitted-level-2);\n",
       "}\n",
       "\n",
       "/* Estimator-specific style */\n",
       "\n",
       "/* Colorize estimator box */\n",
       "#sk-container-id-1 div.sk-estimator input.sk-toggleable__control:checked~label.sk-toggleable__label {\n",
       "  /* unfitted */\n",
       "  background-color: var(--sklearn-color-unfitted-level-2);\n",
       "}\n",
       "\n",
       "#sk-container-id-1 div.sk-estimator.fitted input.sk-toggleable__control:checked~label.sk-toggleable__label {\n",
       "  /* fitted */\n",
       "  background-color: var(--sklearn-color-fitted-level-2);\n",
       "}\n",
       "\n",
       "#sk-container-id-1 div.sk-label label.sk-toggleable__label,\n",
       "#sk-container-id-1 div.sk-label label {\n",
       "  /* The background is the default theme color */\n",
       "  color: var(--sklearn-color-text-on-default-background);\n",
       "}\n",
       "\n",
       "/* On hover, darken the color of the background */\n",
       "#sk-container-id-1 div.sk-label:hover label.sk-toggleable__label {\n",
       "  color: var(--sklearn-color-text);\n",
       "  background-color: var(--sklearn-color-unfitted-level-2);\n",
       "}\n",
       "\n",
       "/* Label box, darken color on hover, fitted */\n",
       "#sk-container-id-1 div.sk-label.fitted:hover label.sk-toggleable__label.fitted {\n",
       "  color: var(--sklearn-color-text);\n",
       "  background-color: var(--sklearn-color-fitted-level-2);\n",
       "}\n",
       "\n",
       "/* Estimator label */\n",
       "\n",
       "#sk-container-id-1 div.sk-label label {\n",
       "  font-family: monospace;\n",
       "  font-weight: bold;\n",
       "  display: inline-block;\n",
       "  line-height: 1.2em;\n",
       "}\n",
       "\n",
       "#sk-container-id-1 div.sk-label-container {\n",
       "  text-align: center;\n",
       "}\n",
       "\n",
       "/* Estimator-specific */\n",
       "#sk-container-id-1 div.sk-estimator {\n",
       "  font-family: monospace;\n",
       "  border: 1px dotted var(--sklearn-color-border-box);\n",
       "  border-radius: 0.25em;\n",
       "  box-sizing: border-box;\n",
       "  margin-bottom: 0.5em;\n",
       "  /* unfitted */\n",
       "  background-color: var(--sklearn-color-unfitted-level-0);\n",
       "}\n",
       "\n",
       "#sk-container-id-1 div.sk-estimator.fitted {\n",
       "  /* fitted */\n",
       "  background-color: var(--sklearn-color-fitted-level-0);\n",
       "}\n",
       "\n",
       "/* on hover */\n",
       "#sk-container-id-1 div.sk-estimator:hover {\n",
       "  /* unfitted */\n",
       "  background-color: var(--sklearn-color-unfitted-level-2);\n",
       "}\n",
       "\n",
       "#sk-container-id-1 div.sk-estimator.fitted:hover {\n",
       "  /* fitted */\n",
       "  background-color: var(--sklearn-color-fitted-level-2);\n",
       "}\n",
       "\n",
       "/* Specification for estimator info (e.g. \"i\" and \"?\") */\n",
       "\n",
       "/* Common style for \"i\" and \"?\" */\n",
       "\n",
       ".sk-estimator-doc-link,\n",
       "a:link.sk-estimator-doc-link,\n",
       "a:visited.sk-estimator-doc-link {\n",
       "  float: right;\n",
       "  font-size: smaller;\n",
       "  line-height: 1em;\n",
       "  font-family: monospace;\n",
       "  background-color: var(--sklearn-color-background);\n",
       "  border-radius: 1em;\n",
       "  height: 1em;\n",
       "  width: 1em;\n",
       "  text-decoration: none !important;\n",
       "  margin-left: 0.5em;\n",
       "  text-align: center;\n",
       "  /* unfitted */\n",
       "  border: var(--sklearn-color-unfitted-level-1) 1pt solid;\n",
       "  color: var(--sklearn-color-unfitted-level-1);\n",
       "}\n",
       "\n",
       ".sk-estimator-doc-link.fitted,\n",
       "a:link.sk-estimator-doc-link.fitted,\n",
       "a:visited.sk-estimator-doc-link.fitted {\n",
       "  /* fitted */\n",
       "  border: var(--sklearn-color-fitted-level-1) 1pt solid;\n",
       "  color: var(--sklearn-color-fitted-level-1);\n",
       "}\n",
       "\n",
       "/* On hover */\n",
       "div.sk-estimator:hover .sk-estimator-doc-link:hover,\n",
       ".sk-estimator-doc-link:hover,\n",
       "div.sk-label-container:hover .sk-estimator-doc-link:hover,\n",
       ".sk-estimator-doc-link:hover {\n",
       "  /* unfitted */\n",
       "  background-color: var(--sklearn-color-unfitted-level-3);\n",
       "  color: var(--sklearn-color-background);\n",
       "  text-decoration: none;\n",
       "}\n",
       "\n",
       "div.sk-estimator.fitted:hover .sk-estimator-doc-link.fitted:hover,\n",
       ".sk-estimator-doc-link.fitted:hover,\n",
       "div.sk-label-container:hover .sk-estimator-doc-link.fitted:hover,\n",
       ".sk-estimator-doc-link.fitted:hover {\n",
       "  /* fitted */\n",
       "  background-color: var(--sklearn-color-fitted-level-3);\n",
       "  color: var(--sklearn-color-background);\n",
       "  text-decoration: none;\n",
       "}\n",
       "\n",
       "/* Span, style for the box shown on hovering the info icon */\n",
       ".sk-estimator-doc-link span {\n",
       "  display: none;\n",
       "  z-index: 9999;\n",
       "  position: relative;\n",
       "  font-weight: normal;\n",
       "  right: .2ex;\n",
       "  padding: .5ex;\n",
       "  margin: .5ex;\n",
       "  width: min-content;\n",
       "  min-width: 20ex;\n",
       "  max-width: 50ex;\n",
       "  color: var(--sklearn-color-text);\n",
       "  box-shadow: 2pt 2pt 4pt #999;\n",
       "  /* unfitted */\n",
       "  background: var(--sklearn-color-unfitted-level-0);\n",
       "  border: .5pt solid var(--sklearn-color-unfitted-level-3);\n",
       "}\n",
       "\n",
       ".sk-estimator-doc-link.fitted span {\n",
       "  /* fitted */\n",
       "  background: var(--sklearn-color-fitted-level-0);\n",
       "  border: var(--sklearn-color-fitted-level-3);\n",
       "}\n",
       "\n",
       ".sk-estimator-doc-link:hover span {\n",
       "  display: block;\n",
       "}\n",
       "\n",
       "/* \"?\"-specific style due to the `<a>` HTML tag */\n",
       "\n",
       "#sk-container-id-1 a.estimator_doc_link {\n",
       "  float: right;\n",
       "  font-size: 1rem;\n",
       "  line-height: 1em;\n",
       "  font-family: monospace;\n",
       "  background-color: var(--sklearn-color-background);\n",
       "  border-radius: 1rem;\n",
       "  height: 1rem;\n",
       "  width: 1rem;\n",
       "  text-decoration: none;\n",
       "  /* unfitted */\n",
       "  color: var(--sklearn-color-unfitted-level-1);\n",
       "  border: var(--sklearn-color-unfitted-level-1) 1pt solid;\n",
       "}\n",
       "\n",
       "#sk-container-id-1 a.estimator_doc_link.fitted {\n",
       "  /* fitted */\n",
       "  border: var(--sklearn-color-fitted-level-1) 1pt solid;\n",
       "  color: var(--sklearn-color-fitted-level-1);\n",
       "}\n",
       "\n",
       "/* On hover */\n",
       "#sk-container-id-1 a.estimator_doc_link:hover {\n",
       "  /* unfitted */\n",
       "  background-color: var(--sklearn-color-unfitted-level-3);\n",
       "  color: var(--sklearn-color-background);\n",
       "  text-decoration: none;\n",
       "}\n",
       "\n",
       "#sk-container-id-1 a.estimator_doc_link.fitted:hover {\n",
       "  /* fitted */\n",
       "  background-color: var(--sklearn-color-fitted-level-3);\n",
       "}\n",
       "</style><div id=\"sk-container-id-1\" class=\"sk-top-container\"><div class=\"sk-text-repr-fallback\"><pre>RandomForestRegressor(max_depth=2, n_estimators=5, random_state=0, verbose=100)</pre><b>In a Jupyter environment, please rerun this cell to show the HTML representation or trust the notebook. <br />On GitHub, the HTML representation is unable to render, please try loading this page with nbviewer.org.</b></div><div class=\"sk-container\" hidden><div class=\"sk-item\"><div class=\"sk-estimator fitted sk-toggleable\"><input class=\"sk-toggleable__control sk-hidden--visually\" id=\"sk-estimator-id-1\" type=\"checkbox\" checked><label for=\"sk-estimator-id-1\" class=\"sk-toggleable__label fitted sk-toggleable__label-arrow\"><div><div>RandomForestRegressor</div></div><div><a class=\"sk-estimator-doc-link fitted\" rel=\"noreferrer\" target=\"_blank\" href=\"https://scikit-learn.org/1.6/modules/generated/sklearn.ensemble.RandomForestRegressor.html\">?<span>Documentation for RandomForestRegressor</span></a><span class=\"sk-estimator-doc-link fitted\">i<span>Fitted</span></span></div></label><div class=\"sk-toggleable__content fitted\"><pre>RandomForestRegressor(max_depth=2, n_estimators=5, random_state=0, verbose=100)</pre></div> </div></div></div></div>"
      ],
      "text/plain": [
       "RandomForestRegressor(max_depth=2, n_estimators=5, random_state=0, verbose=100)"
      ]
     },
     "execution_count": 12,
     "metadata": {},
     "output_type": "execute_result"
    }
   ],
   "source": [
    "# regular model training w/ verbose\n",
    "model.fit(X, y)"
   ]
  },
  {
   "cell_type": "code",
   "execution_count": 13,
   "id": "56ecc9be",
   "metadata": {},
   "outputs": [],
   "source": [
    "# store the verbose for model training\n",
    "import io\n",
    "from contextlib import redirect_stdout\n",
    "\n",
    "with redirect_stdout(io.StringIO()) as f:\n",
    "    model.fit(X, y)"
   ]
  },
  {
   "cell_type": "code",
   "execution_count": 38,
   "id": "4bd508aa",
   "metadata": {},
   "outputs": [
    {
     "name": "stdout",
     "output_type": "stream",
     "text": [
      "building tree 1 of 5\n",
      "[Parallel(n_jobs=1)]: Done   1 tasks      | elapsed:    0.0s\n",
      "building tree 2 of 5\n",
      "[Parallel(n_jobs=1)]: Done   2 tasks      | elapsed:    0.0s\n",
      "building tree 3 of 5\n",
      "[Parallel(n_jobs=1)]: Done   3 tasks      | elapsed:    0.0s\n",
      "building tree 4 of 5\n",
      "[Parallel(n_jobs=1)]: Done   4 tasks      | elapsed:    0.0s\n",
      "building tree 5 of 5\n",
      "[Parallel(n_jobs=1)]: Done   5 tasks      | elapsed:    0.0s\n",
      "[Parallel(n_jobs=1)]: Done   5 tasks      | elapsed:    0.0s\n",
      "\n"
     ]
    }
   ],
   "source": [
    "# get the verbose as string\n",
    "print(f.getvalue())"
   ]
  },
  {
   "cell_type": "markdown",
   "id": "d3967d36",
   "metadata": {},
   "source": [
    "## decorators: Expressive Functions\n"
   ]
  },
  {
   "cell_type": "code",
   "execution_count": 5,
   "id": "c8cedbdc",
   "metadata": {},
   "outputs": [
    {
     "name": "stdout",
     "output_type": "stream",
     "text": [
      "0.043044134584800164\n"
     ]
    },
    {
     "data": {
      "text/plain": [
       "'Done!'"
      ]
     },
     "execution_count": 5,
     "metadata": {},
     "output_type": "execute_result"
    }
   ],
   "source": [
    "import time\n",
    "import random\n",
    "\n",
    "\n",
    "def sleep_random():\n",
    "    print(number := random.random())\n",
    "    time.sleep(number)\n",
    "    return \"Done!\"\n",
    "\n",
    "\n",
    "sleep_random()"
   ]
  },
  {
   "cell_type": "code",
   "execution_count": 12,
   "id": "8ebc694a",
   "metadata": {},
   "outputs": [
    {
     "name": "stdout",
     "output_type": "stream",
     "text": [
      "9\n",
      "625\n"
     ]
    }
   ],
   "source": [
    "def power(n):\n",
    "    def func(number):\n",
    "        return number**n\n",
    "\n",
    "    return func\n",
    "\n",
    "\n",
    "pow2 = power(2)\n",
    "print(pow2(3))\n",
    "\n",
    "pow4 = power(4)\n",
    "print(pow4(5))"
   ]
  },
  {
   "cell_type": "code",
   "execution_count": 18,
   "id": "0bbcde28",
   "metadata": {},
   "outputs": [],
   "source": [
    "import time\n",
    "import random\n",
    "\n",
    "\n",
    "def stopwatch(some_func):\n",
    "    def inside_func():\n",
    "        tic = time.time()\n",
    "        result = some_func()\n",
    "        print(f\"inside function took: {time.time() - tic}\")\n",
    "        return result\n",
    "\n",
    "    return inside_func\n",
    "\n",
    "\n",
    "def sleep_random():\n",
    "    time.sleep(random.random())\n",
    "    return \"Done!\"\n",
    "\n",
    "\n",
    "timed_sleep = stopwatch(sleep_random)"
   ]
  },
  {
   "cell_type": "code",
   "execution_count": 21,
   "id": "a8c2ba67",
   "metadata": {},
   "outputs": [
    {
     "data": {
      "text/plain": [
       "'Done!'"
      ]
     },
     "execution_count": 21,
     "metadata": {},
     "output_type": "execute_result"
    }
   ],
   "source": [
    "sleep_random()"
   ]
  },
  {
   "cell_type": "code",
   "execution_count": 24,
   "id": "31460ec4",
   "metadata": {},
   "outputs": [
    {
     "name": "stdout",
     "output_type": "stream",
     "text": [
      "inside function took: 0.10652709007263184\n"
     ]
    },
    {
     "data": {
      "text/plain": [
       "'Done!'"
      ]
     },
     "execution_count": 24,
     "metadata": {},
     "output_type": "execute_result"
    }
   ],
   "source": [
    "timed_sleep()"
   ]
  },
  {
   "cell_type": "code",
   "execution_count": 26,
   "id": "8fa4717f",
   "metadata": {},
   "outputs": [
    {
     "name": "stdout",
     "output_type": "stream",
     "text": [
      "0.9556706409027412\n",
      "inside function took: 0.9607148170471191\n"
     ]
    },
    {
     "data": {
      "text/plain": [
       "'Done!'"
      ]
     },
     "execution_count": 26,
     "metadata": {},
     "output_type": "execute_result"
    }
   ],
   "source": [
    "@stopwatch\n",
    "def sleep_random():\n",
    "    print(number := random.random())\n",
    "    time.sleep(number)\n",
    "    return \"Done!\"\n",
    "\n",
    "\n",
    "sleep_random()"
   ]
  },
  {
   "cell_type": "code",
   "execution_count": 24,
   "id": "eb08df04",
   "metadata": {},
   "outputs": [
    {
     "name": "stdout",
     "output_type": "stream",
     "text": [
      "inside function took: 1.6807599067687988\n"
     ]
    },
    {
     "data": {
      "text/plain": [
       "'Done'"
      ]
     },
     "execution_count": 24,
     "metadata": {},
     "output_type": "execute_result"
    }
   ],
   "source": [
    "import time\n",
    "import random\n",
    "\n",
    "\n",
    "def stopwatch(f):\n",
    "    def func(*args, **kwargs):\n",
    "        tic = time.time()\n",
    "        result = f(*args, **kwargs)\n",
    "        print(f\"inside function took: {time.time() - tic}\")\n",
    "        return result\n",
    "\n",
    "    return func\n",
    "\n",
    "\n",
    "@stopwatch\n",
    "def sleep_random(s):\n",
    "    t = s + random.random()\n",
    "    time.sleep(t)\n",
    "    return \"Done\"\n",
    "\n",
    "\n",
    "sleep_random(s=1)"
   ]
  },
  {
   "cell_type": "markdown",
   "id": "4f22b09a",
   "metadata": {},
   "source": [
    "## diskcache: Very nice sqlite trick\n"
   ]
  },
  {
   "cell_type": "code",
   "execution_count": 8,
   "id": "9cbf4233",
   "metadata": {},
   "outputs": [
    {
     "data": {
      "text/plain": [
       "{'name': 'Luke Skywalker',\n",
       " 'height': '172',\n",
       " 'mass': '77',\n",
       " 'hair_color': 'blond',\n",
       " 'skin_color': 'fair',\n",
       " 'eye_color': 'blue',\n",
       " 'birth_year': '19BBY',\n",
       " 'gender': 'male',\n",
       " 'homeworld': 'https://swapi.dev/api/planets/1/',\n",
       " 'films': ['https://swapi.dev/api/films/1/',\n",
       "  'https://swapi.dev/api/films/2/',\n",
       "  'https://swapi.dev/api/films/3/',\n",
       "  'https://swapi.dev/api/films/6/'],\n",
       " 'species': [],\n",
       " 'vehicles': ['https://swapi.dev/api/vehicles/14/',\n",
       "  'https://swapi.dev/api/vehicles/30/'],\n",
       " 'starships': ['https://swapi.dev/api/starships/12/',\n",
       "  'https://swapi.dev/api/starships/22/'],\n",
       " 'created': '2014-12-09T13:50:51.644000Z',\n",
       " 'edited': '2014-12-20T21:17:56.891000Z',\n",
       " 'url': 'https://swapi.dev/api/people/1/'}"
      ]
     },
     "execution_count": 8,
     "metadata": {},
     "output_type": "execute_result"
    }
   ],
   "source": [
    "import requests as rq\n",
    "\n",
    "\n",
    "def fetch_starwars_person(i):\n",
    "    return rq.get(f\"https://swapi.dev/api/people/{i}/\").json()\n",
    "\n",
    "\n",
    "fetch_starwars_person(1)"
   ]
  },
  {
   "cell_type": "code",
   "execution_count": 10,
   "id": "9b04f818",
   "metadata": {},
   "outputs": [
    {
     "name": "stdout",
     "output_type": "stream",
     "text": [
      "CPU times: user 3.2 ms, sys: 1.74 ms, total: 4.94 ms\n",
      "Wall time: 509 ms\n"
     ]
    },
    {
     "data": {
      "text/plain": [
       "{'name': 'Luke Skywalker',\n",
       " 'height': '172',\n",
       " 'mass': '77',\n",
       " 'hair_color': 'blond',\n",
       " 'skin_color': 'fair',\n",
       " 'eye_color': 'blue',\n",
       " 'birth_year': '19BBY',\n",
       " 'gender': 'male',\n",
       " 'homeworld': 'https://swapi.dev/api/planets/1/',\n",
       " 'films': ['https://swapi.dev/api/films/1/',\n",
       "  'https://swapi.dev/api/films/2/',\n",
       "  'https://swapi.dev/api/films/3/',\n",
       "  'https://swapi.dev/api/films/6/'],\n",
       " 'species': [],\n",
       " 'vehicles': ['https://swapi.dev/api/vehicles/14/',\n",
       "  'https://swapi.dev/api/vehicles/30/'],\n",
       " 'starships': ['https://swapi.dev/api/starships/12/',\n",
       "  'https://swapi.dev/api/starships/22/'],\n",
       " 'created': '2014-12-09T13:50:51.644000Z',\n",
       " 'edited': '2014-12-20T21:17:56.891000Z',\n",
       " 'url': 'https://swapi.dev/api/people/1/'}"
      ]
     },
     "execution_count": 10,
     "metadata": {},
     "output_type": "execute_result"
    }
   ],
   "source": [
    "%%time\n",
    "fetch_starwars_person(1)"
   ]
  },
  {
   "cell_type": "code",
   "execution_count": 3,
   "id": "8fa30542",
   "metadata": {},
   "outputs": [],
   "source": [
    "from functools import lru_cache\n",
    "import requests as rq\n",
    "\n",
    "\n",
    "@lru_cache\n",
    "def fetch_starwars_person(i):\n",
    "    return rq.get(f\"https://swapi.dev/api/people/{i}/\").json()"
   ]
  },
  {
   "cell_type": "code",
   "execution_count": 5,
   "id": "90536fe4",
   "metadata": {},
   "outputs": [
    {
     "name": "stdout",
     "output_type": "stream",
     "text": [
      "CPU times: user 3 μs, sys: 1 μs, total: 4 μs\n",
      "Wall time: 4.77 μs\n"
     ]
    },
    {
     "data": {
      "text/plain": [
       "{'name': 'Luke Skywalker',\n",
       " 'height': '172',\n",
       " 'mass': '77',\n",
       " 'hair_color': 'blond',\n",
       " 'skin_color': 'fair',\n",
       " 'eye_color': 'blue',\n",
       " 'birth_year': '19BBY',\n",
       " 'gender': 'male',\n",
       " 'homeworld': 'https://swapi.dev/api/planets/1/',\n",
       " 'films': ['https://swapi.dev/api/films/1/',\n",
       "  'https://swapi.dev/api/films/2/',\n",
       "  'https://swapi.dev/api/films/3/',\n",
       "  'https://swapi.dev/api/films/6/'],\n",
       " 'species': [],\n",
       " 'vehicles': ['https://swapi.dev/api/vehicles/14/',\n",
       "  'https://swapi.dev/api/vehicles/30/'],\n",
       " 'starships': ['https://swapi.dev/api/starships/12/',\n",
       "  'https://swapi.dev/api/starships/22/'],\n",
       " 'created': '2014-12-09T13:50:51.644000Z',\n",
       " 'edited': '2014-12-20T21:17:56.891000Z',\n",
       " 'url': 'https://swapi.dev/api/people/1/'}"
      ]
     },
     "execution_count": 5,
     "metadata": {},
     "output_type": "execute_result"
    }
   ],
   "source": [
    "%%time\n",
    "fetch_starwars_person(1)"
   ]
  },
  {
   "cell_type": "code",
   "execution_count": 1,
   "id": "3e18cbd9",
   "metadata": {},
   "outputs": [],
   "source": [
    "from diskcache import Cache\n",
    "\n",
    "cache = Cache(\"local_cache\")\n",
    "\n",
    "\n",
    "@cache.memoize()\n",
    "def fetch_starwars_person(i):\n",
    "    return rq.get(f\"https://swapi.dev/api/people/{i}/\").json()"
   ]
  },
  {
   "cell_type": "code",
   "execution_count": 2,
   "id": "c865a783",
   "metadata": {},
   "outputs": [
    {
     "name": "stdout",
     "output_type": "stream",
     "text": [
      "CPU times: user 278 μs, sys: 157 μs, total: 435 μs\n",
      "Wall time: 351 μs\n"
     ]
    },
    {
     "data": {
      "text/plain": [
       "{'name': 'Luke Skywalker',\n",
       " 'height': '172',\n",
       " 'mass': '77',\n",
       " 'hair_color': 'blond',\n",
       " 'skin_color': 'fair',\n",
       " 'eye_color': 'blue',\n",
       " 'birth_year': '19BBY',\n",
       " 'gender': 'male',\n",
       " 'homeworld': 'https://swapi.dev/api/planets/1/',\n",
       " 'films': ['https://swapi.dev/api/films/1/',\n",
       "  'https://swapi.dev/api/films/2/',\n",
       "  'https://swapi.dev/api/films/3/',\n",
       "  'https://swapi.dev/api/films/6/'],\n",
       " 'species': [],\n",
       " 'vehicles': ['https://swapi.dev/api/vehicles/14/',\n",
       "  'https://swapi.dev/api/vehicles/30/'],\n",
       " 'starships': ['https://swapi.dev/api/starships/12/',\n",
       "  'https://swapi.dev/api/starships/22/'],\n",
       " 'created': '2014-12-09T13:50:51.644000Z',\n",
       " 'edited': '2014-12-20T21:17:56.891000Z',\n",
       " 'url': 'https://swapi.dev/api/people/1/'}"
      ]
     },
     "execution_count": 2,
     "metadata": {},
     "output_type": "execute_result"
    }
   ],
   "source": [
    "%%time\n",
    "\n",
    "fetch_starwars_person(1)"
   ]
  },
  {
   "cell_type": "code",
   "execution_count": null,
   "id": "cb743626",
   "metadata": {},
   "outputs": [],
   "source": []
  },
  {
   "cell_type": "code",
   "execution_count": null,
   "id": "ee82ae8e",
   "metadata": {},
   "outputs": [],
   "source": []
  },
  {
   "cell_type": "markdown",
   "id": "423892de",
   "metadata": {},
   "source": [
    "## gazpacho: Simple Scraping\n"
   ]
  },
  {
   "cell_type": "code",
   "execution_count": 22,
   "id": "122c2ea3",
   "metadata": {},
   "outputs": [],
   "source": [
    "url = \"https://calmcode.io/\"\n",
    "\n",
    "from gazpacho import get, Soup\n",
    "\n",
    "html = get(url)\n",
    "soup = Soup(html)\n",
    "\n",
    "cards = soup.find(\n",
    "    \"li\",\n",
    "    {\n",
    "        \"class\": \"col-span-1 flex flex-col text-center bg-white rounded shadow divide-y divide-gray-200 border-gray-800 border-t-4\"\n",
    "    },\n",
    ")"
   ]
  },
  {
   "cell_type": "code",
   "execution_count": 29,
   "id": "1add5b61",
   "metadata": {},
   "outputs": [
    {
     "data": {
      "text/plain": [
       "<li class=\"col-span-1 flex flex-col text-center bg-white rounded shadow divide-y divide-gray-200 border-gray-800 border-t-4\">\n",
       "    <div class=\"flex-1 flex flex-col p-4\">\n",
       "      <a href=\"/course/comprehensions/introduction\">\n",
       "        <img class=\"w-12 h-12 flex-shrink-0 mx-auto\" alt=\"\" src=\"/static/icons/svg/comprehension.svg\">\n",
       "      </a>\n",
       "      <a href=\"/course/comprehensions/introduction\" class=\"mt-4 text-gray-900 text-lg font-medium\">comprehensions</a>\n",
       "      <p class=\"mt-1 text-gray-500 text-md\">Awesome One-Liners</p>\n",
       "    </div>\n",
       "</li>"
      ]
     },
     "execution_count": 29,
     "metadata": {},
     "output_type": "execute_result"
    }
   ],
   "source": [
    "cards[4]"
   ]
  },
  {
   "cell_type": "code",
   "execution_count": 31,
   "id": "31f00a9a",
   "metadata": {},
   "outputs": [
    {
     "data": {
      "text/plain": [
       "'Awesome One-Liners'"
      ]
     },
     "execution_count": 31,
     "metadata": {},
     "output_type": "execute_result"
    }
   ],
   "source": [
    "cards[4].find(\"p\", {\"class\": \"mt-1 text-gray-500 text-md\"}, partial=False).text"
   ]
  },
  {
   "cell_type": "code",
   "execution_count": null,
   "id": "5262bb92",
   "metadata": {},
   "outputs": [
    {
     "data": {
      "text/plain": [
       "['Function Arguments',\n",
       " 'Checks for Security',\n",
       " 'Format Your Code',\n",
       " 'Sound Cues',\n",
       " 'Awesome One-Liners',\n",
       " 'Automatically Cleaned Python',\n",
       " 'Automate Boilerplate',\n",
       " 'Joy in the Terminal',\n",
       " 'Explore and Publish',\n",
       " 'Expressive Functions',\n",
       " 'Very nice sqlite trick',\n",
       " 'Repeat on Change',\n",
       " 'Fast WebStuff',\n",
       " 'Check Your Style',\n",
       " 'Simple Scraping',\n",
       " 'Configure Python',\n",
       " 'Running Tasks on GitHub',\n",
       " 'Many many backends',\n",
       " 'Expressive Functions',\n",
       " 'Web Stress Tests',\n",
       " 'Better Hindsight',\n",
       " 'Not War',\n",
       " 'Functional Objects',\n",
       " 'Documentation Tool',\n",
       " 'Quick Demo Tunnels',\n",
       " 'Inverse of Format',\n",
       " 'For Files And Folders',\n",
       " 'More Sturdy Pip',\n",
       " 'Web tests. End to end.',\n",
       " 'Prevent Bad Commits',\n",
       " 'Measure Slow Code',\n",
       " 'Intro to Testing',\n",
       " 'Utilities for Pytest',\n",
       " 'Image Links',\n",
       " 'Dearme, Readme',\n",
       " 'Rephrasing Complexity',\n",
       " 'Great Terminal Output',\n",
       " 'Fast Style Checks',\n",
       " 'Connect to Servers',\n",
       " 'Solid Retry',\n",
       " 'Interactive Demos',\n",
       " 'Progress Bars',\n",
       " \"Make Grand Cli's\",\n",
       " 'Fast Python Dev',\n",
       " 'Environments Matter',\n",
       " 'Oh my! Nice Shell!',\n",
       " 'Interactive Plots',\n",
       " 'Fast Array Retrieval',\n",
       " 'And how to find them.',\n",
       " 'Linear Programming',\n",
       " 'Quadratic Portfolio',\n",
       " 'Explore and Publish',\n",
       " 'Sensible Checklists',\n",
       " 'The intuition behind them',\n",
       " 'Parallel Coordinates',\n",
       " 'Rule Based Systems',\n",
       " 'Many many backends',\n",
       " 'UI on Jupyter',\n",
       " 'Autodiff',\n",
       " 'Happy Notebooks',\n",
       " 'Reactive Notebooks',\n",
       " 'Quick Gifs',\n",
       " 'Quick Plots',\n",
       " 'Collect Stats',\n",
       " 'From Data to Model',\n",
       " 'Great Graph Database',\n",
       " 'Fast Numeric Code',\n",
       " 'Clean Pandas Code',\n",
       " 'Datetimes in Pandas',\n",
       " 'Batches of ML',\n",
       " 'Simple Labelling',\n",
       " 'Faster DataFrames',\n",
       " 'Parallel Execution',\n",
       " 'Smart Benchmark',\n",
       " 'Overview Starts Here',\n",
       " 'Extra Model Behavior',\n",
       " 'Measurement Matters',\n",
       " 'Preprocess Data',\n",
       " 'Re-Use Models Safely',\n",
       " 'Math with Python',\n",
       " 'Celebrate HTML',\n",
       " 'Fast Python Dev',\n",
       " 'Routing Log Events',\n",
       " 'The *Real* One',\n",
       " 'Optimal Testing Strategy',\n",
       " 'Programmers Need It',\n",
       " 'Lie With Statistics',\n",
       " 'Numbers that Worsen',\n",
       " 'Neat Uptime Service',\n",
       " 'Amazing Icons for All',\n",
       " 'Simple Data Plier',\n",
       " 'Awesome Plotting',\n",
       " 'Our Creation Process',\n",
       " 'Small but Helpful',\n",
       " 'Time Management',\n",
       " 'With No Office']"
      ]
     },
     "execution_count": 32,
     "metadata": {},
     "output_type": "execute_result"
    }
   ],
   "source": [
    "# get all card details\n",
    "[\n",
    "    card.find(\"p\", {\"class\": \"mt-1 text-gray-500 text-md\"}, partial=False).text\n",
    "    for card in cards\n",
    "]"
   ]
  },
  {
   "cell_type": "code",
   "execution_count": null,
   "id": "3879d55c",
   "metadata": {},
   "outputs": [],
   "source": []
  },
  {
   "cell_type": "code",
   "execution_count": null,
   "id": "3b4aae2d",
   "metadata": {},
   "outputs": [],
   "source": []
  },
  {
   "cell_type": "markdown",
   "id": "a1e9183e",
   "metadata": {},
   "source": [
    "## gin: Configure Python\n"
   ]
  },
  {
   "cell_type": "code",
   "execution_count": null,
   "id": "28e587f4",
   "metadata": {},
   "outputs": [],
   "source": []
  },
  {
   "cell_type": "markdown",
   "id": "ab716925",
   "metadata": {},
   "source": [
    "## lambda: Expressive Functions\n"
   ]
  },
  {
   "cell_type": "markdown",
   "id": "a57097dc",
   "metadata": {},
   "source": [
    "## logging: Better Hindsight\n"
   ]
  },
  {
   "cell_type": "markdown",
   "id": "cf9ac1ff",
   "metadata": {},
   "source": [
    "## method chains: Functional Objects\n"
   ]
  },
  {
   "cell_type": "markdown",
   "id": "839240a0",
   "metadata": {},
   "source": [
    "## parse: Inverse of Format\n"
   ]
  },
  {
   "cell_type": "markdown",
   "id": "b6f96eea",
   "metadata": {},
   "source": [
    "## pathlib: For Files And Folders\n"
   ]
  },
  {
   "cell_type": "markdown",
   "id": "83ccf470",
   "metadata": {},
   "source": [
    "## recursion: Rephrasing Complexity\n"
   ]
  },
  {
   "cell_type": "markdown",
   "id": "10131cf0",
   "metadata": {},
   "source": [
    "## virtualenv: Environments Matter\n"
   ]
  },
  {
   "cell_type": "markdown",
   "id": "14cacf9c",
   "metadata": {},
   "source": []
  },
  {
   "cell_type": "markdown",
   "id": "5e63ed03",
   "metadata": {},
   "source": [
    "bandit: Checks for Security\n",
    "\n",
    "##\n"
   ]
  },
  {
   "cell_type": "markdown",
   "id": "92084d4f",
   "metadata": {},
   "source": [
    "chime: Sound Cues\n",
    "\n",
    "##\n"
   ]
  },
  {
   "cell_type": "markdown",
   "id": "0985aa5b",
   "metadata": {},
   "source": [
    "context managers: Automatically Cleaned Python\n",
    "\n",
    "##\n"
   ]
  },
  {
   "cell_type": "markdown",
   "id": "619782e4",
   "metadata": {},
   "source": [
    "decorators: Expressive Functions\n",
    "\n",
    "##\n"
   ]
  },
  {
   "cell_type": "markdown",
   "id": "52c6e91d",
   "metadata": {},
   "source": [
    "diskcache: Very nice sqlite trick\n",
    "\n",
    "##\n"
   ]
  },
  {
   "cell_type": "markdown",
   "id": "5a22be88",
   "metadata": {},
   "source": [
    "gazpacho: Simple Scraping\n",
    "\n",
    "##\n"
   ]
  },
  {
   "cell_type": "markdown",
   "id": "c2e6f5d3",
   "metadata": {},
   "source": [
    "gin: Configure Python\n",
    "\n",
    "##\n"
   ]
  },
  {
   "cell_type": "markdown",
   "id": "80a63ea6",
   "metadata": {},
   "source": [
    "lambda: Expressive Functions\n",
    "\n",
    "##\n"
   ]
  },
  {
   "cell_type": "markdown",
   "id": "b1194e51",
   "metadata": {},
   "source": [
    "logging: Better Hindsight\n",
    "\n",
    "##\n"
   ]
  },
  {
   "cell_type": "markdown",
   "id": "522d6043",
   "metadata": {},
   "source": [
    "method chains: Functional Objects\n",
    "\n",
    "##\n"
   ]
  },
  {
   "cell_type": "markdown",
   "id": "e27b5be0",
   "metadata": {},
   "source": [
    "parse: Inverse of Format\n",
    "\n",
    "##\n"
   ]
  },
  {
   "cell_type": "markdown",
   "id": "7a840f90",
   "metadata": {},
   "source": [
    "pathlib: For Files And Folders\n",
    "\n",
    "##\n"
   ]
  },
  {
   "cell_type": "markdown",
   "id": "660724a1",
   "metadata": {},
   "source": [
    "recursion: Rephrasing Complexity\n",
    "\n",
    "##\n"
   ]
  },
  {
   "cell_type": "markdown",
   "id": "8668625a",
   "metadata": {},
   "source": [
    "virtualenv: Environments Matter\n"
   ]
  },
  {
   "cell_type": "code",
   "execution_count": null,
   "id": "7c81653a",
   "metadata": {},
   "outputs": [],
   "source": []
  },
  {
   "cell_type": "code",
   "execution_count": null,
   "id": "eb67e0bd",
   "metadata": {},
   "outputs": [],
   "source": []
  },
  {
   "cell_type": "code",
   "execution_count": null,
   "id": "4c7ee636",
   "metadata": {},
   "outputs": [],
   "source": []
  },
  {
   "cell_type": "code",
   "execution_count": null,
   "id": "3b37fc76",
   "metadata": {},
   "outputs": [],
   "source": []
  }
 ],
 "metadata": {
  "kernelspec": {
   "display_name": ".venv",
   "language": "python",
   "name": "python3"
  },
  "language_info": {
   "codemirror_mode": {
    "name": "ipython",
    "version": 3
   },
   "file_extension": ".py",
   "mimetype": "text/x-python",
   "name": "python",
   "nbconvert_exporter": "python",
   "pygments_lexer": "ipython3",
   "version": "3.12.8"
  }
 },
 "nbformat": 4,
 "nbformat_minor": 5
}
