{
 "cells": [
  {
   "cell_type": "markdown",
   "id": "1f60ab16",
   "metadata": {},
   "source": [
    "## altair - Interactive Plots"
   ]
  },
  {
   "cell_type": "markdown",
   "id": "857011e6",
   "metadata": {},
   "source": [
    "## hiplot - Parallel Coordinates"
   ]
  },
  {
   "cell_type": "markdown",
   "id": "67f1133f",
   "metadata": {},
   "source": [
    "## ipywidgets - UI on Jupyter"
   ]
  },
  {
   "cell_type": "markdown",
   "id": "b62e508b",
   "metadata": {},
   "source": [
    "## marimo - Reactive Notebooks"
   ]
  },
  {
   "cell_type": "markdown",
   "id": "a6bb4681",
   "metadata": {},
   "source": [
    "## matplot gif - Quick GIFs"
   ]
  },
  {
   "cell_type": "markdown",
   "id": "3582148b",
   "metadata": {},
   "source": [
    "## matplotlib - Quick Plots"
   ]
  },
  {
   "cell_type": "markdown",
   "id": "ba9f9b49",
   "metadata": {},
   "source": [
    "## streamlit - Interactive Demos"
   ]
  }
 ],
 "metadata": {},
 "nbformat": 4,
 "nbformat_minor": 5
}
