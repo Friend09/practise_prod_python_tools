{
 "cells": [
  {
   "cell_type": "markdown",
   "id": "651a0473",
   "metadata": {},
   "source": [
    "## datasette: Explore and Publish\n"
   ]
  },
  {
   "cell_type": "markdown",
   "id": "f2e938a0",
   "metadata": {},
   "source": [
    "## ibis: Many many backends\n"
   ]
  },
  {
   "cell_type": "markdown",
   "id": "f4227fea",
   "metadata": {},
   "source": [
    "## neo4j: Great Graph Database\n"
   ]
  },
  {
   "cell_type": "markdown",
   "id": "0bbaf9ea",
   "metadata": {},
   "source": [
    "## pandas pipe: Clean Pandas Code\n"
   ]
  },
  {
   "cell_type": "markdown",
   "id": "19d02832",
   "metadata": {},
   "source": [
    "## pandas datetime: Datetimes in Pandas\n"
   ]
  },
  {
   "cell_type": "markdown",
   "id": "41649c94",
   "metadata": {},
   "source": [
    "## polars: Faster DataFrames\n"
   ]
  }
 ],
 "metadata": {
  "language_info": {
   "name": "python"
  }
 },
 "nbformat": 4,
 "nbformat_minor": 5
}
