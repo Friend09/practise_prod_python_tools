{
 "cells": [
  {
   "cell_type": "markdown",
   "id": "0b40e4f8",
   "metadata": {},
   "source": [
    "## fastapi - Fast Web Stuff"
   ]
  },
  {
   "cell_type": "markdown",
   "id": "91804442",
   "metadata": {},
   "source": [
    "## locust - Web Stress Tests"
   ]
  },
  {
   "cell_type": "markdown",
   "id": "6fb5a342",
   "metadata": {},
   "source": [
    "## ngrok - Quick Demo Tunnels"
   ]
  },
  {
   "cell_type": "markdown",
   "id": "b29807a4",
   "metadata": {},
   "source": [
    "## playwright - Web Tests, End to End"
   ]
  },
  {
   "cell_type": "markdown",
   "id": "335d0fad",
   "metadata": {},
   "source": [
    "## tailwind - CSS Made Easier"
   ]
  }
 ],
 "metadata": {},
 "nbformat": 4,
 "nbformat_minor": 5
}
