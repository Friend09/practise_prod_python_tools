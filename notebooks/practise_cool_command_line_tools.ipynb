{
 "cells": [
  {
   "cell_type": "markdown",
   "id": "83799a56",
   "metadata": {},
   "source": [
    "# COOL CLI - JOY IN THE TERMINAL"
   ]
  },
  {
   "cell_type": "markdown",
   "id": "eae0a1e1",
   "metadata": {},
   "source": [
    "## makefiles - Not War"
   ]
  },
  {
   "cell_type": "markdown",
   "id": "70f0873b",
   "metadata": {},
   "source": [
    "## ngrok - Quick Demo Tunnels"
   ]
  },
  {
   "cell_type": "markdown",
   "id": "be8e5447",
   "metadata": {},
   "source": [
    "## questionary: Terminal Prompts\n"
   ]
  },
  {
   "cell_type": "markdown",
   "id": "d2504fbe",
   "metadata": {},
   "source": [
    "## rich - Great Terminal Output"
   ]
  },
  {
   "cell_type": "markdown",
   "id": "f63d1dfc",
   "metadata": {},
   "source": [
    "## ssh: Connect to Servers"
   ]
  },
  {
   "cell_type": "markdown",
   "id": "2b2c9a4c",
   "metadata": {},
   "source": [
    "## tqdm: Progress Bars"
   ]
  },
  {
   "cell_type": "markdown",
   "id": "ff853bae",
   "metadata": {},
   "source": [
    "## typer - Make Grand CLIs"
   ]
  },
  {
   "cell_type": "markdown",
   "id": "15e1d27a",
   "metadata": {},
   "source": [
    "## watch: Watch and Repeat\n"
   ]
  },
  {
   "cell_type": "markdown",
   "id": "10328018",
   "metadata": {},
   "source": [
    "## zsh: Oh my! Nice Shell!\n"
   ]
  },
  {
   "cell_type": "markdown",
   "id": "0840d5ac",
   "metadata": {},
   "source": [
    "## entr - Repeat on Change"
   ]
  },
  {
   "cell_type": "markdown",
   "id": "f7a5c703",
   "metadata": {},
   "source": [
    "## cookiecutter - Automate Boilerplate"
   ]
  },
  {
   "cell_type": "markdown",
   "id": "a1a59d14",
   "metadata": {},
   "source": [
    "## pyinstrument - Measure Slow Code"
   ]
  }
 ],
 "metadata": {
  "language_info": {
   "name": "python"
  }
 },
 "nbformat": 4,
 "nbformat_minor": 5
}
