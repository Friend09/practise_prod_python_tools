{
 "cells": [
  {
   "cell_type": "markdown",
   "id": "83799a56",
   "metadata": {},
   "source": [
    "# COOL CLI - JOY IN THE TERMINAL"
   ]
  },
  {
   "cell_type": "markdown",
   "id": "eae0a1e1",
   "metadata": {},
   "source": [
    "## makefiles - Not War"
   ]
  },
  {
   "cell_type": "markdown",
   "id": "70f0873b",
   "metadata": {},
   "source": [
    "## ngrok - Quick Demo Tunnels"
   ]
  },
  {
   "cell_type": "markdown",
   "id": "be8e5447",
   "metadata": {},
   "source": [
    "## questionary: Terminal Prompts\n"
   ]
  },
  {
   "cell_type": "markdown",
   "id": "d2504fbe",
   "metadata": {},
   "source": [
    "## rich - Great Terminal Output"
   ]
  },
  {
   "cell_type": "markdown",
   "id": "f63d1dfc",
   "metadata": {},
   "source": [
    "## ssh: Connect to Servers"
   ]
  },
  {
   "cell_type": "markdown",
   "id": "2b2c9a4c",
   "metadata": {},
   "source": [
    "## tqdm: Progress Bars"
   ]
  },
  {
   "cell_type": "code",
   "execution_count": 1,
   "id": "903a9803",
   "metadata": {},
   "outputs": [
    {
     "name": "stderr",
     "output_type": "stream",
     "text": [
      "100%|██████████| 100/100 [00:10<00:00,  9.47it/s]"
     ]
    },
    {
     "name": "stdout",
     "output_type": "stream",
     "text": [
      "done!\n"
     ]
    },
    {
     "name": "stderr",
     "output_type": "stream",
     "text": [
      "\n"
     ]
    }
   ],
   "source": [
    "import time\n",
    "import tqdm\n",
    "\n",
    "for i in tqdm.tqdm(range(100)):\n",
    "    time.sleep(0.1)\n",
    "\n",
    "print(\"done!\")"
   ]
  },
  {
   "cell_type": "markdown",
   "id": "ff853bae",
   "metadata": {},
   "source": [
    "## typer - Make Grand CLIs"
   ]
  },
  {
   "cell_type": "code",
   "execution_count": null,
   "id": "8648506b",
   "metadata": {},
   "outputs": [],
   "source": []
  },
  {
   "cell_type": "markdown",
   "id": "15e1d27a",
   "metadata": {},
   "source": [
    "## watch: Watch and Repeat\n"
   ]
  },
  {
   "cell_type": "markdown",
   "id": "10328018",
   "metadata": {},
   "source": [
    "## zsh: Oh my! Nice Shell!\n"
   ]
  },
  {
   "cell_type": "markdown",
   "id": "0840d5ac",
   "metadata": {},
   "source": [
    "## entr - Repeat on Change"
   ]
  },
  {
   "cell_type": "markdown",
   "id": "f7a5c703",
   "metadata": {},
   "source": [
    "## cookiecutter - Automate Boilerplate"
   ]
  },
  {
   "cell_type": "markdown",
   "id": "a1a59d14",
   "metadata": {},
   "source": [
    "## pyinstrument - Measure Slow Code"
   ]
  }
 ],
 "metadata": {
  "kernelspec": {
   "display_name": ".venv",
   "language": "python",
   "name": "python3"
  },
  "language_info": {
   "codemirror_mode": {
    "name": "ipython",
    "version": 3
   },
   "file_extension": ".py",
   "mimetype": "text/x-python",
   "name": "python",
   "nbconvert_exporter": "python",
   "pygments_lexer": "ipython3",
   "version": "3.11.12"
  }
 },
 "nbformat": 4,
 "nbformat_minor": 5
}
