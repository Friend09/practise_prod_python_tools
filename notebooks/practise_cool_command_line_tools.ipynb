{
 "cells": [
  {
   "cell_type": "markdown",
   "id": "f7a5c703",
   "metadata": {},
   "source": [
    "## cookiecutter - Automate Boilerplate"
   ]
  },
  {
   "cell_type": "markdown",
   "id": "83799a56",
   "metadata": {},
   "source": [
    "## cool cli - Joy in the Terminal"
   ]
  },
  {
   "cell_type": "markdown",
   "id": "0840d5ac",
   "metadata": {},
   "source": [
    "## entr - Repeat on Change"
   ]
  },
  {
   "cell_type": "markdown",
   "id": "eae0a1e1",
   "metadata": {},
   "source": [
    "## makefiles - Not War"
   ]
  },
  {
   "cell_type": "markdown",
   "id": "70f0873b",
   "metadata": {},
   "source": [
    "## ngrok - Quick Demo Tunnels"
   ]
  },
  {
   "cell_type": "markdown",
   "id": "a1a59d14",
   "metadata": {},
   "source": [
    "## pyinstrument - Measure Slow Code"
   ]
  },
  {
   "cell_type": "markdown",
   "id": "d2504fbe",
   "metadata": {},
   "source": [
    "## rich - Great Terminal Output"
   ]
  },
  {
   "cell_type": "markdown",
   "id": "ff853bae",
   "metadata": {},
   "source": [
    "## typer - Make Grand CLIs"
   ]
  }
 ],
 "metadata": {},
 "nbformat": 4,
 "nbformat_minor": 5
}
