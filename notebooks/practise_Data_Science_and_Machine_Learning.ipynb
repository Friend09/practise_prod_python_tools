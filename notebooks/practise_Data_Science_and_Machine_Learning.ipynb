{
 "cells": [
  {
   "cell_type": "markdown",
   "id": "9fb093f5",
   "metadata": {},
   "source": [
    "## annoy: Fast Array Retrieval\n"
   ]
  },
  {
   "cell_type": "markdown",
   "id": "820ab982",
   "metadata": {},
   "source": [
    "## bad labels: And how to find them\n"
   ]
  },
  {
   "cell_type": "markdown",
   "id": "d2061b69",
   "metadata": {},
   "source": [
    "## cvxpy: Linear Programming & Quadratic Portfolio\n"
   ]
  },
  {
   "cell_type": "markdown",
   "id": "310943a2",
   "metadata": {},
   "source": [
    "## deon: Sensible Checklists\n"
   ]
  },
  {
   "cell_type": "markdown",
   "id": "ea5540e3",
   "metadata": {},
   "source": [
    "## embeddings: The intuition behind them\n"
   ]
  },
  {
   "cell_type": "markdown",
   "id": "41b8dfcb",
   "metadata": {},
   "source": [
    "## human learn: Rule Based Systems\n"
   ]
  },
  {
   "cell_type": "markdown",
   "id": "141c21d8",
   "metadata": {},
   "source": [
    "## jax: Autodiff\n"
   ]
  },
  {
   "cell_type": "markdown",
   "id": "0496ecd5",
   "metadata": {},
   "source": [
    "## memo: Collect Stats\n"
   ]
  },
  {
   "cell_type": "markdown",
   "id": "8dd84a24",
   "metadata": {},
   "source": [
    "## model•mining: From Data to Model\n"
   ]
  },
  {
   "cell_type": "markdown",
   "id": "cf0b0ba0",
   "metadata": {},
   "source": [
    "## numba: Fast Numeric Code\n"
   ]
  },
  {
   "cell_type": "markdown",
   "id": "2e1ab90c",
   "metadata": {},
   "source": [
    "## partial_fit: Batches of ML\n"
   ]
  },
  {
   "cell_type": "markdown",
   "id": "87bfa3e4",
   "metadata": {},
   "source": [
    "## ray: Parallel Execution\n"
   ]
  },
  {
   "cell_type": "markdown",
   "id": "02149ac5",
   "metadata": {},
   "source": [
    "## scikit dummy: Smart Benchmark\n"
   ]
  },
  {
   "cell_type": "markdown",
   "id": "208415f8",
   "metadata": {},
   "source": [
    "## scikit learn: Overview Starts Here\n"
   ]
  },
  {
   "cell_type": "markdown",
   "id": "a50a3c31",
   "metadata": {},
   "source": [
    "## scikit meta: Extra Model Behavior\n"
   ]
  },
  {
   "cell_type": "markdown",
   "id": "8b6ee384",
   "metadata": {},
   "source": [
    "## scikit metrics: Measurement Matters\n"
   ]
  },
  {
   "cell_type": "markdown",
   "id": "1b5c27e2",
   "metadata": {},
   "source": [
    "## scikit prep: Preprocess Data\n"
   ]
  },
  {
   "cell_type": "markdown",
   "id": "e3cc3714",
   "metadata": {},
   "source": [
    "## scikit save: Re•Use Models Safely\n"
   ]
  },
  {
   "cell_type": "markdown",
   "id": "52618e4b",
   "metadata": {},
   "source": [
    "## sympy: Math with Python\n"
   ]
  }
 ],
 "metadata": {
  "language_info": {
   "name": "python"
  }
 },
 "nbformat": 4,
 "nbformat_minor": 5
}
