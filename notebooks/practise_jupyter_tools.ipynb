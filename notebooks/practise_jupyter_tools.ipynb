{
 "cells": [
  {
   "cell_type": "markdown",
   "id": "02d33349",
   "metadata": {},
   "source": [
    "## ipywidgets - UI on Jupyter"
   ]
  },
  {
   "cell_type": "markdown",
   "id": "2fdf0f51",
   "metadata": {},
   "source": [
    "## jupyter lab - Happy Notebooks"
   ]
  },
  {
   "cell_type": "markdown",
   "id": "4f5bd9ba",
   "metadata": {},
   "source": [
    "## pigeon - Simple Labeling"
   ]
  }
 ],
 "metadata": {},
 "nbformat": 4,
 "nbformat_minor": 5
}
