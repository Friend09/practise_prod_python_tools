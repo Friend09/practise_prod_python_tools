{
 "cells": [
  {
   "cell_type": "markdown",
   "id": "28417766",
   "metadata": {},
   "source": [
    "## bad labels - And how to find them"
   ]
  },
  {
   "cell_type": "markdown",
   "id": "34ce784e",
   "metadata": {},
   "source": [
    "## human learn - Rule-Based Systems"
   ]
  },
  {
   "cell_type": "markdown",
   "id": "469787c0",
   "metadata": {},
   "source": [
    "## partial_fit - Batches of ML"
   ]
  },
  {
   "cell_type": "markdown",
   "id": "207deaa2",
   "metadata": {},
   "source": [
    "## scikit dummy - Smart Benchmark"
   ]
  },
  {
   "cell_type": "markdown",
   "id": "bc70b784",
   "metadata": {},
   "source": [
    "## scikit learn - Overview Starts Here"
   ]
  },
  {
   "cell_type": "markdown",
   "id": "2f826012",
   "metadata": {},
   "source": [
    "## scikit meta - Extra Model Behavior"
   ]
  },
  {
   "cell_type": "markdown",
   "id": "4af338aa",
   "metadata": {},
   "source": [
    "## scikit metrics - Measurement Matters"
   ]
  },
  {
   "cell_type": "markdown",
   "id": "ffdfe245",
   "metadata": {},
   "source": [
    "## scikit prep - Preprocess Data"
   ]
  },
  {
   "cell_type": "markdown",
   "id": "969f8752",
   "metadata": {},
   "source": [
    "## scikit save - Re-Use Models Safely"
   ]
  }
 ],
 "metadata": {},
 "nbformat": 4,
 "nbformat_minor": 5
}
