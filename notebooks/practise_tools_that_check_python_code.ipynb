{
 "cells": [
  {
   "cell_type": "markdown",
   "id": "80cf4569",
   "metadata": {},
   "source": [
    "## black - Format Your Code"
   ]
  },
  {
   "cell_type": "markdown",
   "id": "f4a5815d",
   "metadata": {},
   "source": [
    "## flake8 - Check Your Style"
   ]
  },
  {
   "cell_type": "markdown",
   "id": "6cb168d4",
   "metadata": {},
   "source": [
    "## pre-commit - Prevent Bad Commits"
   ]
  },
  {
   "cell_type": "markdown",
   "id": "204ef157",
   "metadata": {},
   "source": [
    "## pyinstrument - Measure Slow Code"
   ]
  },
  {
   "cell_type": "markdown",
   "id": "aaf44387",
   "metadata": {},
   "source": [
    "## pytest - Intro to Testing"
   ]
  },
  {
   "cell_type": "markdown",
   "id": "2e7c63b8",
   "metadata": {},
   "source": [
    "## pytest tricks - Utilities for Pytest"
   ]
  }
 ],
 "metadata": {},
 "nbformat": 4,
 "nbformat_minor": 5
}
