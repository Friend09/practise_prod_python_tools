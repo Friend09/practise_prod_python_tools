{
 "cells": [
  {
   "cell_type": "markdown",
   "id": "80cf4569",
   "metadata": {},
   "source": [
    "## black - Format Your Code"
   ]
  },
  {
   "cell_type": "code",
   "execution_count": null,
   "id": "41d9a4a5",
   "metadata": {
    "vscode": {
     "languageId": "plaintext"
    }
   },
   "outputs": [],
   "source": []
  },
  {
   "cell_type": "markdown",
   "id": "f4a5815d",
   "metadata": {},
   "source": [
    "## flake8 - Check Your Style"
   ]
  },
  {
   "cell_type": "markdown",
   "id": "6cb168d4",
   "metadata": {},
   "source": [
    "## pre-commit - Prevent Bad Commits"
   ]
  },
  {
   "cell_type": "markdown",
   "id": "204ef157",
   "metadata": {},
   "source": [
    "## pyinstrument - Measure Slow Code"
   ]
  },
  {
   "cell_type": "markdown",
   "id": "aaf44387",
   "metadata": {},
   "source": [
    "## pytest - Intro to Testing"
   ]
  },
  {
   "cell_type": "markdown",
   "id": "2e7c63b8",
   "metadata": {},
   "source": [
    "## pytest tricks - Utilities for Pytest"
   ]
  }
 ],
 "metadata": {
  "language_info": {
   "name": "python"
  }
 },
 "nbformat": 4,
 "nbformat_minor": 5
}
