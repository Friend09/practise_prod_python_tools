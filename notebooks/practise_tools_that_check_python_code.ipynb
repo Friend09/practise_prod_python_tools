{
 "cells": [
  {
   "cell_type": "markdown",
   "id": "80cf4569",
   "metadata": {},
   "source": [
    "## black - Format Your Code"
   ]
  },
  {
   "cell_type": "code",
   "execution_count": null,
   "id": "41d9a4a5",
   "metadata": {},
   "outputs": [
    {
     "name": "stdout",
     "output_type": "stream",
     "text": [
      "hello world 3\n"
     ]
    }
   ],
   "source": [
    "# refer the .py file for this"
   ]
  },
  {
   "cell_type": "markdown",
   "id": "f4a5815d",
   "metadata": {},
   "source": [
    "## flake8 - Check Your Style"
   ]
  },
  {
   "cell_type": "markdown",
   "id": "6cb168d4",
   "metadata": {},
   "source": [
    "## pre-commit - Prevent Bad Commits"
   ]
  },
  {
   "cell_type": "markdown",
   "id": "204ef157",
   "metadata": {},
   "source": [
    "## pyinstrument - Measure Slow Code"
   ]
  },
  {
   "cell_type": "markdown",
   "id": "aaf44387",
   "metadata": {},
   "source": [
    "## pytest - Intro to Testing"
   ]
  },
  {
   "cell_type": "markdown",
   "id": "2e7c63b8",
   "metadata": {},
   "source": [
    "## pytest tricks - Utilities for Pytest"
   ]
  }
 ],
 "metadata": {
  "kernelspec": {
   "display_name": ".venv",
   "language": "python",
   "name": "python3"
  },
  "language_info": {
   "codemirror_mode": {
    "name": "ipython",
    "version": 3
   },
   "file_extension": ".py",
   "mimetype": "text/x-python",
   "name": "python",
   "nbconvert_exporter": "python",
   "pygments_lexer": "ipython3",
   "version": "3.12.9"
  }
 },
 "nbformat": 4,
 "nbformat_minor": 5
}
