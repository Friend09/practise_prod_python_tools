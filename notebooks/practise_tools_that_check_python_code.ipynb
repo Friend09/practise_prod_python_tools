{
 "cells": [
  {
   "cell_type": "markdown",
   "id": "80cf4569",
   "metadata": {},
   "source": [
    "## black - Format Your Code"
   ]
  },
  {
   "cell_type": "code",
   "execution_count": null,
   "id": "41d9a4a5",
   "metadata": {},
   "outputs": [
    {
     "name": "stdout",
     "output_type": "stream",
     "text": [
      "hello world 3\n"
     ]
    }
   ],
   "source": [
    "# refer the .py file for this"
   ]
  },
  {
   "cell_type": "markdown",
   "id": "f4a5815d",
   "metadata": {},
   "source": [
    "## flake8 - Check Your Style"
   ]
  },
  {
   "cell_type": "code",
   "execution_count": null,
   "id": "cc2a6976",
   "metadata": {},
   "outputs": [],
   "source": []
  },
  {
   "cell_type": "markdown",
   "id": "6cb168d4",
   "metadata": {},
   "source": [
    "## pre-commit - Prevent Bad Commits"
   ]
  },
  {
   "cell_type": "markdown",
   "id": "204ef157",
   "metadata": {},
   "source": [
    "## pyinstrument - Measure Slow Code"
   ]
  },
  {
   "cell_type": "markdown",
   "id": "aaf44387",
   "metadata": {},
   "source": [
    "## pytest - Intro to Testing"
   ]
  },
  {
   "cell_type": "markdown",
   "id": "2e7c63b8",
   "metadata": {},
   "source": [
    "## pytest tricks - Utilities for Pytest"
   ]
  },
  {
   "cell_type": "code",
   "execution_count": 1,
   "id": "35ceb02f",
   "metadata": {},
   "outputs": [],
   "source": [
    "def card_score(cards):\n",
    "    numbers = [c for c in cards if c in \"23456789\"]\n",
    "    faces = [c for c in cards if c in \"JQK\"]\n",
    "    n_aces = sum([1 for c in cards if c == \"A\"])\n",
    "    score = sum([int(i) for i in numbers]) + len(faces) * 10\n",
    "    while (score + n_aces * 11) > 21:\n",
    "        score += 1\n",
    "        n_aces -= 1\n",
    "    return score if score < 21 else 0"
   ]
  },
  {
   "cell_type": "code",
   "execution_count": 11,
   "id": "6afcc8bb",
   "metadata": {},
   "outputs": [
    {
     "data": {
      "text/plain": [
       "20"
      ]
     },
     "execution_count": 11,
     "metadata": {},
     "output_type": "execute_result"
    }
   ],
   "source": [
    "card_score(\"JK\")"
   ]
  },
  {
   "cell_type": "code",
   "execution_count": 10,
   "id": "4be6be83",
   "metadata": {},
   "outputs": [
    {
     "name": "stdout",
     "output_type": "stream",
     "text": [
      "\u001b[1m============================= test session starts ==============================\u001b[0m\n",
      "platform darwin -- Python 3.11.11, pytest-8.3.5, pluggy-1.5.0 -- /Users/vamsi_mbmax/Library/CloudStorage/OneDrive-Personal/01_vam_PROJECTS/LEARNING/proj_Productivity/dev_proj_Productivity/practise_prod_python_tools/.venv/bin/python\n",
      "cachedir: .pytest_cache\n",
      "rootdir: /Users/vamsi_mbmax/Library/CloudStorage/OneDrive-Personal/01_vam_PROJECTS/LEARNING/proj_Productivity/dev_proj_Productivity/practise_prod_python_tools/notebooks\n",
      "\u001b[1mcollecting ... \u001b[0mcollected 0 items\n",
      "\n",
      "\u001b[33m============================ \u001b[33mno tests ran\u001b[0m\u001b[33m in 0.00s\u001b[0m\u001b[33m =============================\u001b[0m\n"
     ]
    },
    {
     "data": {
      "text/plain": [
       "<ExitCode.NO_TESTS_COLLECTED: 5>"
      ]
     },
     "execution_count": 10,
     "metadata": {},
     "output_type": "execute_result"
    }
   ],
   "source": [
    "import pytest\n",
    "\n",
    "\n",
    "def test_simple_usecase():\n",
    "    assert card_score(\"JK\") == 20\n",
    "\n",
    "\n",
    "# Run the test\n",
    "pytest.main([\"-xvs\", \"-k\", \"test_simple_usecase\"])"
   ]
  },
  {
   "cell_type": "code",
   "execution_count": null,
   "id": "bb98da95",
   "metadata": {},
   "outputs": [],
   "source": []
  }
 ],
 "metadata": {
  "kernelspec": {
   "display_name": ".venv",
   "language": "python",
   "name": "python3"
  },
  "language_info": {
   "codemirror_mode": {
    "name": "ipython",
    "version": 3
   },
   "file_extension": ".py",
   "mimetype": "text/x-python",
   "name": "python",
   "nbconvert_exporter": "python",
   "pygments_lexer": "ipython3",
   "version": "3.11.11"
  }
 },
 "nbformat": 4,
 "nbformat_minor": 5
}
